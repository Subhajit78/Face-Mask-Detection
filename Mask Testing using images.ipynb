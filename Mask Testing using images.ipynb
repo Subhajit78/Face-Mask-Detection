{
 "cells": [
  {
   "cell_type": "code",
   "execution_count": 1,
   "id": "b63c7f42",
   "metadata": {},
   "outputs": [],
   "source": [
    "from tensorflow.keras.applications.mobilenet_v2 import preprocess_input\n",
    "from tensorflow.keras.preprocessing.image import img_to_array\n",
    "from tensorflow.keras.models import load_model\n",
    "import numpy as np\n",
    "import cv2\n",
    "import os"
   ]
  },
  {
   "cell_type": "code",
   "execution_count": 2,
   "id": "d213c001",
   "metadata": {},
   "outputs": [],
   "source": [
    "prototxtPath=os.path.sep.join([r'D:\\SELF DEVELOPMENT\\project 1-Face mask detection\\Face_Detector','deploy.prototxt'])\n",
    "weightsPath=os.path.sep.join([r'D:\\SELF DEVELOPMENT\\project 1-Face mask detection\\Face_Detector','res10_300x300_ssd_iter_140000.caffemodel'])"
   ]
  },
  {
   "cell_type": "code",
   "execution_count": 3,
   "id": "f19141e4",
   "metadata": {},
   "outputs": [
    {
     "data": {
      "text/plain": [
       "'D:\\\\SELF DEVELOPMENT\\\\project 1-Face mask detection\\\\Face_Detector\\\\deploy.prototxt'"
      ]
     },
     "execution_count": 3,
     "metadata": {},
     "output_type": "execute_result"
    }
   ],
   "source": [
    "prototxtPath"
   ]
  },
  {
   "cell_type": "code",
   "execution_count": 4,
   "id": "1bc6990c",
   "metadata": {},
   "outputs": [
    {
     "data": {
      "text/plain": [
       "'D:\\\\SELF DEVELOPMENT\\\\project 1-Face mask detection\\\\Face_Detector\\\\res10_300x300_ssd_iter_140000.caffemodel'"
      ]
     },
     "execution_count": 4,
     "metadata": {},
     "output_type": "execute_result"
    }
   ],
   "source": [
    "weightsPath\n"
   ]
  },
  {
   "cell_type": "code",
   "execution_count": 5,
   "id": "1d447aca",
   "metadata": {},
   "outputs": [],
   "source": [
    "net=cv2.dnn.readNet(prototxtPath,weightsPath)"
   ]
  },
  {
   "cell_type": "code",
   "execution_count": null,
   "id": "d4f00130",
   "metadata": {},
   "outputs": [],
   "source": []
  },
  {
   "cell_type": "code",
   "execution_count": 6,
   "id": "ac7dfb7d",
   "metadata": {},
   "outputs": [],
   "source": [
    "model = load_model(r'D:\\SELF DEVELOPMENT\\project 1-Face mask detection\\mobilenet_v2.model')"
   ]
  },
  {
   "cell_type": "code",
   "execution_count": 7,
   "id": "764ccac1",
   "metadata": {},
   "outputs": [],
   "source": [
    "image =cv2.imread(r'D:\\SELF DEVELOPMENT\\project 1-Face mask detection\\Examples\\example_02.png')"
   ]
  },
  {
   "cell_type": "code",
   "execution_count": 8,
   "id": "7632d000",
   "metadata": {},
   "outputs": [
    {
     "data": {
      "text/plain": [
       "array([[[235, 235, 235],\n",
       "        [235, 235, 235],\n",
       "        [235, 235, 235],\n",
       "        ...,\n",
       "        [169, 169, 169],\n",
       "        [169, 169, 169],\n",
       "        [169, 169, 169]],\n",
       "\n",
       "       [[235, 235, 235],\n",
       "        [235, 235, 235],\n",
       "        [235, 235, 235],\n",
       "        ...,\n",
       "        [169, 169, 169],\n",
       "        [169, 169, 169],\n",
       "        [169, 169, 169]],\n",
       "\n",
       "       [[235, 235, 235],\n",
       "        [235, 235, 235],\n",
       "        [235, 235, 235],\n",
       "        ...,\n",
       "        [169, 169, 169],\n",
       "        [169, 169, 169],\n",
       "        [169, 169, 169]],\n",
       "\n",
       "       ...,\n",
       "\n",
       "       [[169, 169, 169],\n",
       "        [169, 169, 169],\n",
       "        [170, 170, 170],\n",
       "        ...,\n",
       "        [118, 118, 118],\n",
       "        [117, 117, 117],\n",
       "        [116, 116, 116]],\n",
       "\n",
       "       [[169, 169, 169],\n",
       "        [169, 169, 169],\n",
       "        [170, 170, 170],\n",
       "        ...,\n",
       "        [116, 116, 116],\n",
       "        [115, 115, 115],\n",
       "        [114, 114, 114]],\n",
       "\n",
       "       [[169, 169, 169],\n",
       "        [170, 170, 170],\n",
       "        [170, 170, 170],\n",
       "        ...,\n",
       "        [115, 115, 115],\n",
       "        [113, 113, 113],\n",
       "        [112, 112, 112]]], dtype=uint8)"
      ]
     },
     "execution_count": 8,
     "metadata": {},
     "output_type": "execute_result"
    }
   ],
   "source": [
    "image"
   ]
  },
  {
   "cell_type": "code",
   "execution_count": 9,
   "id": "b84a6972",
   "metadata": {},
   "outputs": [],
   "source": [
    "(h,w)=image.shape[:2]"
   ]
  },
  {
   "cell_type": "code",
   "execution_count": 10,
   "id": "17ae8608",
   "metadata": {},
   "outputs": [
    {
     "data": {
      "text/plain": [
       "(400, 400)"
      ]
     },
     "execution_count": 10,
     "metadata": {},
     "output_type": "execute_result"
    }
   ],
   "source": [
    "(h,w)"
   ]
  },
  {
   "cell_type": "code",
   "execution_count": 11,
   "id": "c3797a78",
   "metadata": {},
   "outputs": [],
   "source": [
    "blob=cv2.dnn.blobFromImage(image,1.0,(300,300),(104.0,177.0,123.0))"
   ]
  },
  {
   "cell_type": "code",
   "execution_count": 12,
   "id": "9f8f78c1",
   "metadata": {},
   "outputs": [
    {
     "data": {
      "text/plain": [
       "array([[[[131., 131., 131., ...,  66.,  65.,  65.],\n",
       "         [131., 131., 131., ...,  66.,  65.,  65.],\n",
       "         [131., 131., 131., ...,  66.,  65.,  65.],\n",
       "         ...,\n",
       "         [ 65.,  65.,  67., ...,  16.,  14.,  14.],\n",
       "         [ 65.,  66.,  67., ...,  14.,  13.,  11.],\n",
       "         [ 65.,  66.,  67., ...,  13.,  10.,   8.]],\n",
       "\n",
       "        [[ 58.,  58.,  58., ...,  -7.,  -8.,  -8.],\n",
       "         [ 58.,  58.,  58., ...,  -7.,  -8.,  -8.],\n",
       "         [ 58.,  58.,  58., ...,  -7.,  -8.,  -8.],\n",
       "         ...,\n",
       "         [ -8.,  -8.,  -6., ..., -57., -59., -59.],\n",
       "         [ -8.,  -7.,  -6., ..., -59., -60., -62.],\n",
       "         [ -8.,  -7.,  -6., ..., -60., -63., -65.]],\n",
       "\n",
       "        [[112., 112., 112., ...,  47.,  46.,  46.],\n",
       "         [112., 112., 112., ...,  47.,  46.,  46.],\n",
       "         [112., 112., 112., ...,  47.,  46.,  46.],\n",
       "         ...,\n",
       "         [ 46.,  46.,  48., ...,  -3.,  -5.,  -5.],\n",
       "         [ 46.,  47.,  48., ...,  -5.,  -6.,  -8.],\n",
       "         [ 46.,  47.,  48., ...,  -6.,  -9., -11.]]]], dtype=float32)"
      ]
     },
     "execution_count": 12,
     "metadata": {},
     "output_type": "execute_result"
    }
   ],
   "source": [
    "blob"
   ]
  },
  {
   "cell_type": "code",
   "execution_count": 13,
   "id": "5eb5e8ef",
   "metadata": {},
   "outputs": [
    {
     "data": {
      "text/plain": [
       "(1, 3, 300, 300)"
      ]
     },
     "execution_count": 13,
     "metadata": {},
     "output_type": "execute_result"
    }
   ],
   "source": [
    "blob.shape"
   ]
  },
  {
   "cell_type": "code",
   "execution_count": 14,
   "id": "2888d2bc",
   "metadata": {},
   "outputs": [],
   "source": [
    "net.setInput(blob)\n",
    "detections=net.forward()"
   ]
  },
  {
   "cell_type": "code",
   "execution_count": 15,
   "id": "edcad483",
   "metadata": {},
   "outputs": [
    {
     "data": {
      "text/plain": [
       "array([[[[0.        , 1.        , 0.99923694, ..., 0.12586221,\n",
       "          0.6852969 , 0.4343228 ],\n",
       "         [0.        , 1.        , 0.12769319, ..., 4.003238  ,\n",
       "          4.8399506 , 4.985212  ],\n",
       "         [0.        , 1.        , 0.12365585, ..., 4.0013595 ,\n",
       "          0.83174324, 4.9895177 ],\n",
       "         ...,\n",
       "         [0.        , 0.        , 0.        , ..., 0.        ,\n",
       "          0.        , 0.        ],\n",
       "         [0.        , 0.        , 0.        , ..., 0.        ,\n",
       "          0.        , 0.        ],\n",
       "         [0.        , 0.        , 0.        , ..., 0.        ,\n",
       "          0.        , 0.        ]]]], dtype=float32)"
      ]
     },
     "execution_count": 15,
     "metadata": {},
     "output_type": "execute_result"
    }
   ],
   "source": [
    "detections"
   ]
  },
  {
   "cell_type": "code",
   "execution_count": null,
   "id": "56a141fe",
   "metadata": {},
   "outputs": [],
   "source": []
  },
  {
   "cell_type": "code",
   "execution_count": null,
   "id": "34f82657",
   "metadata": {},
   "outputs": [],
   "source": []
  },
  {
   "cell_type": "code",
   "execution_count": 16,
   "id": "9b8a697b",
   "metadata": {},
   "outputs": [
    {
     "name": "stdout",
     "output_type": "stream",
     "text": [
      "1/1 [==============================] - 1s 1s/step\n"
     ]
    }
   ],
   "source": [
    "#loop over the detections\n",
    "for i in range(0,detections.shape[2]):\n",
    "    confidence=detections[0,0,i,2]\n",
    "    \n",
    "    \n",
    "    if confidence>0.5:\n",
    "        #we need the X,Y coordinates\n",
    "        box=detections[0,0,i,3:7]*np.array([w,h,w,h])\n",
    "        (startX,startY,endX,endY)=box.astype('int')\n",
    "        \n",
    "        #ensure the bounding boxes fall within the dimensions of the frame\n",
    "        (startX,startY)=(max(0,startX),max(0,startY))\n",
    "        (endX,endY)=(min(w-1,endX), min(h-1,endY))\n",
    "        \n",
    "        \n",
    "        #extract the face ROI, convert it from BGR to RGB channel, resize it to 224,224 and preprocess it\n",
    "        face=image[startY:endY, startX:endX]\n",
    "        face=cv2.cvtColor(face,cv2.COLOR_BGR2RGB)\n",
    "        face=cv2.resize(face,(224,224))\n",
    "        face=img_to_array(face)\n",
    "        face=preprocess_input(face)\n",
    "        face=np.expand_dims(face,axis=0)\n",
    "        \n",
    "        (mask,withoutMask)=model.predict(face)[0]\n",
    "        \n",
    "        \n",
    "         #determine the class label and color we will use to draw the bounding box and text\n",
    "        label='Mask' if mask>withoutMask else 'No Mask'\n",
    "        color=(0,255,0) if label=='Mask' else (0,0,255)\n",
    "        \n",
    "        #include the probability in the label\n",
    "        label=\"{}: {:.2f}%\".format(label,max(mask,withoutMask)*100)\n",
    "        \n",
    "        #display the label and bounding boxes\n",
    "        cv2.putText(image,label,(startX,startY-10),cv2.FONT_HERSHEY_SIMPLEX,0.45,color,2)\n",
    "        cv2.rectangle(image,(startX,startY),(endX,endY),color,2)\n",
    "        \n",
    "        \n",
    "        \n",
    "cv2.imshow(\"OutPut\",image)\n",
    "cv2.waitKey(0)\n",
    "cv2.destroyAllWindows()"
   ]
  },
  {
   "cell_type": "code",
   "execution_count": null,
   "id": "529bdea2",
   "metadata": {},
   "outputs": [],
   "source": []
  }
 ],
 "metadata": {
  "kernelspec": {
   "display_name": "Python 3 (ipykernel)",
   "language": "python",
   "name": "python3"
  },
  "language_info": {
   "codemirror_mode": {
    "name": "ipython",
    "version": 3
   },
   "file_extension": ".py",
   "mimetype": "text/x-python",
   "name": "python",
   "nbconvert_exporter": "python",
   "pygments_lexer": "ipython3",
   "version": "3.9.7"
  }
 },
 "nbformat": 4,
 "nbformat_minor": 5
}
